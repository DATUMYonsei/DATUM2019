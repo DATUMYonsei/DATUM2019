{
 "cells": [
  {
   "cell_type": "code",
   "execution_count": 1,
   "metadata": {},
   "outputs": [
    {
     "data": {
      "text/plain": [
       "['Python', 'C']"
      ]
     },
     "execution_count": 1,
     "metadata": {},
     "output_type": "execute_result"
    }
   ],
   "source": [
    ">>> mylist = ['Python', 'C', 'Java']\n",
    ">>> mylist[0]\n",
    "'Python'\n",
    ">>> mylist[:2]\n",
    "['Python', 'C']\n",
    ">>> "
   ]
  },
  {
   "cell_type": "code",
   "execution_count": 2,
   "metadata": {},
   "outputs": [
    {
     "name": "stdout",
     "output_type": "stream",
     "text": [
      "{}\n",
      "{'money': '$', 'key': 'value'}\n",
      "$\n",
      "{'money': 'won', 'key': 'value'}\n"
     ]
    }
   ],
   "source": [
    ">>> bag = dict()\n",
    ">>> print(bag)\n",
    "{}\n",
    ">>> bag['money'] = '$'\n",
    ">>> bag['key'] = 'value'\n",
    ">>> print(bag)\n",
    "{'money': '$', 'key': 'value'}\n",
    ">>> print(bag['money'])\n",
    ">>> bag['money'] = 'won'\n",
    ">>> print(bag)"
   ]
  },
  {
   "cell_type": "code",
   "execution_count": 3,
   "metadata": {},
   "outputs": [
    {
     "name": "stdout",
     "output_type": "stream",
     "text": [
      "{'cow': 1, 'pig': 2, 'dog': 3, 'chicken': 1}\n"
     ]
    }
   ],
   "source": [
    "count = {}\n",
    "\n",
    "data = ['cow', 'pig', 'dog', 'dog', 'chicken', 'pig', 'dog']\n",
    "\n",
    "for animal in data:\n",
    "    \n",
    "    if animal not in count:\n",
    "        \n",
    "        count[animal] = 1\n",
    "        \n",
    "    else:\n",
    "        \n",
    "        count[animal] += 1\n",
    "\n",
    "print(count)\n"
   ]
  },
  {
   "cell_type": "code",
   "execution_count": 7,
   "metadata": {},
   "outputs": [
    {
     "name": "stdout",
     "output_type": "stream",
     "text": [
      "{'cow': 1, 'pig': 2, 'dog': 3, 'chicken': 1}\n"
     ]
    }
   ],
   "source": [
    "count = {}\n",
    "\n",
    "data = ['cow', 'pig', 'dog', 'dog', 'chicken', 'pig', 'dog']\n",
    "\n",
    "for animal in data:\n",
    "    count[animal] = count.get(animal, 0) + 1\n",
    "\n",
    "print(count)"
   ]
  },
  {
   "cell_type": "code",
   "execution_count": 10,
   "metadata": {},
   "outputs": [
    {
     "name": "stdout",
     "output_type": "stream",
     "text": [
      "{'Yonsei': 4, 'University': 2, '(Korean:': 1, '연세대학교;': 1, 'Hanja:': 1, '延世大學校;': 1, '[jʌn.seː])': 1, 'is': 8, 'a': 5, 'private': 1, 'research': 1, 'university': 2, 'in': 12, 'Seoul,': 1, 'South': 2, 'Korea.': 2, 'It': 1, 'one': 3, 'of': 12, \"Korea's\": 1, 'three': 1, 'SKY': 1, 'universities,': 1, 'considered': 1, 'the': 19, 'most': 1, 'prestigious': 1, 'country.': 1, 'was': 5, 'established': 2, '1885': 1, 'and': 9, 'oldest': 1, 'universities': 1, 'The': 5, 'student': 1, 'body': 1, 'consists': 1, '26,731': 1, 'undergraduate': 1, 'students,': 2, '11,994': 1, 'graduate': 1, '4,518': 1, 'faculty': 1, 'members,': 1, '6,788': 1, 'staff,': 1, '257,931': 1, 'alumni.': 1, 'operates': 1, 'its': 3, 'main': 1, 'campus': 1, 'Seoul': 1, 'offers': 1, 'graduate,': 1, 'postgraduate': 1, 'doctoral': 1, 'programs': 1, 'Korean': 1, 'English.': 1, 'January': 1, '1957': 1, 'through': 1, 'union': 1, 'Yonhi': 3, 'College': 5, '(연희전문학교;': 1, '延禧專門學校)': 1, 'Severance': 3, 'Union': 2, 'Medical': 2, '(세브란스': 1, '의과대학;': 1, '세브란스': 1, '醫科大學).': 1, 'This': 1, 'result': 1, 'lasting': 1, 'bilateral': 1, 'cooperation': 1, 'between': 1, 'colleges': 1, 'that': 1, 'began': 1, '1920s.': 1, 'institutions': 1, 'were': 1, 'new': 1, 'to': 1, 'Korea': 1, 'at': 1, 'time': 1, 'their': 1, 'inception.': 1, 'first': 3, 'modern': 2, 'colleges,': 1, 'founded': 2, 'as': 1, 'Chosun': 1, 'Christian': 1, '(조선기독교대학;': 1, '朝鮮基督教大學)': 1, 'March': 1, '1915.': 1, 'has': 1, 'roots': 1, 'medical': 1, 'center': 1, 'Korea,': 1, 'Gwanghyewon': 1, '(광혜원': 1, '廣惠院,': 1, 'House': 1, 'Extended': 1, 'Grace),': 1, 'April,': 1, '1885.': 1, 'As': 1, 'tribute,': 1, 'name': 1, \"'Yonsei'\": 1, 'derived': 1, 'from': 3, 'syllables': 1, 'names': 1, 'two': 2, 'parent': 1, 'institutions,': 1, \"'Yon;\": 1, '연;': 1, \"延'\": 1, \"'Sei;\": 1, '세;': 1, \"世'\": 1, 'College.': 1, 'In': 2, 'symbol': 3, 'shield.': 1, 'shield,': 1, \"'ㅇ'\": 1, 'means': 3, 'sky,': 1, \"'ㅡ'\": 1, 'land': 1, \"'ㅅ'\": 1, 'human.': 1, 'On': 1, 'left': 1, 'side': 1, \"'ㅇ',\": 1, 'book': 1, 'truth;': 1, 'on': 1, 'right': 1, 'side,': 1, 'torch': 1, 'freedom.': 1, 'shield': 1, 'defends': 1, 'these': 1, 'ideas.[3]': 1, 'animals': 1, 'an': 1, 'eagle[4],': 1, 'color': 1, 'royal': 1, 'blue.': 1}\n"
     ]
    }
   ],
   "source": [
    "count = {}\n",
    "\n",
    "data = \"\"\"Yonsei University (Korean: 연세대학교; Hanja: 延世大學校; [jʌn.seː]) is a private research university in Seoul, South Korea. It is one of Korea's three SKY universities, considered the most prestigious in the country. Yonsei was established in 1885 and is one of the oldest universities in South Korea.\n",
    "\n",
    "The student body consists of 26,731 undergraduate students, 11,994 graduate students, 4,518 faculty members, 6,788 staff, and 257,931 alumni. Yonsei operates its main campus in Seoul and offers graduate, postgraduate and doctoral programs in Korean and English.\n",
    "\n",
    "The university was established in January 1957 through the union of Yonhi College (연희전문학교; 延禧專門學校) and Severance Union Medical College (세브란스 의과대학; 세브란스 醫科大學). This was a result of a lasting bilateral cooperation between the colleges that began in the 1920s. The institutions were new to Korea at the time of their inception. Yonhi College was one of the first modern colleges, founded as Chosun Christian College (조선기독교대학; 朝鮮基督教大學) in March 1915. Severance has its roots in the first modern medical center in Korea, Gwanghyewon (광혜원 廣惠院, House of Extended Grace), founded in April, 1885. As a tribute, the name 'Yonsei' was derived from the first syllables of the names of its two parent institutions, 'Yon; 연; 延' from Yonhi College and 'Sei; 세; 世' from Severance Union Medical College.\n",
    "\n",
    "In the symbol of Yonsei University is a shield. In the shield, 'ㅇ' means sky, 'ㅡ' means land and 'ㅅ' means human. On the left side of 'ㅇ', the book is truth; on the right side, the torch is freedom. The shield defends these two ideas.[3]\n",
    "\n",
    "The symbol animals is an eagle[4], and the symbol color is royal blue.\"\"\"\n",
    "datas = data.split()\n",
    "for animal in datas:\n",
    "    count[animal] = count.get(animal, 0) + 1\n",
    "\n",
    "print(count)"
   ]
  },
  {
   "cell_type": "code",
   "execution_count": null,
   "metadata": {},
   "outputs": [],
   "source": [
    "counts = dict()\n",
    "line = input('Enter a line of text:\\n')\n",
    "\n",
    "words = line.split()\n",
    "print('Words:', words)\n",
    "\n",
    "print('Counting...')\n",
    "\n",
    "for word in words:\n",
    "    counts[word] = counts.get(word,0) +1\n",
    "    \n",
    "print('Counts', counts)"
   ]
  },
  {
   "cell_type": "code",
   "execution_count": 1,
   "metadata": {},
   "outputs": [
    {
     "name": "stdout",
     "output_type": "stream",
     "text": [
      " kim 21\n",
      "fred 42\n",
      "jan 100\n"
     ]
    }
   ],
   "source": [
    "counts = { ' kim': 21, 'fred' : 42, 'jan': 100 }\n",
    "for key in counts:\n",
    "    print(key, counts[key])"
   ]
  },
  {
   "cell_type": "code",
   "execution_count": 5,
   "metadata": {},
   "outputs": [
    {
     "name": "stdout",
     "output_type": "stream",
     "text": [
      "[' kim', 'fred', 'jan']\n",
      "dict_keys([' kim', 'fred', 'jan'])\n",
      "dict_values([21, 42, 100])\n",
      "dict_items([(' kim', 21), ('fred', 42), ('jan', 100)])\n"
     ]
    }
   ],
   "source": [
    "counts = { ' kim': 21, 'fred' : 42, 'jan': 100 }\n",
    "print(list(counts))\n",
    "print(counts.keys())\n",
    "print(counts.values())\n",
    "print(counts.items())"
   ]
  },
  {
   "cell_type": "code",
   "execution_count": 3,
   "metadata": {
    "scrolled": true
   },
   "outputs": [
    {
     "name": "stdout",
     "output_type": "stream",
     "text": [
      " kim 21\n",
      "fred 42\n",
      "jan 100\n"
     ]
    }
   ],
   "source": [
    "counts = { ' kim': 21, 'fred' : 42, 'jan': 100 }\n",
    "for a,b in counts.items():\n",
    "    print(a,b)"
   ]
  },
  {
   "cell_type": "code",
   "execution_count": null,
   "metadata": {},
   "outputs": [],
   "source": [
    "name = input('Enter file:')\n",
    "handle = open(name)\n",
    "\n",
    "counts = {}\n",
    "for line in handle:\n",
    "    words = line.split()\n",
    "    for word in words:\n",
    "        counts[word] = counts.get(word, 0)+1\n",
    "bigcount = None\n",
    "bigword = None\n",
    "for word.count in counts.items():\n",
    "    if bigcount == None or count > bigcount:\n",
    "        bigword = word\n",
    "        bigcount = count"
   ]
  }
 ],
 "metadata": {
  "kernelspec": {
   "display_name": "Python 3",
   "language": "python",
   "name": "python3"
  },
  "language_info": {
   "codemirror_mode": {
    "name": "ipython",
    "version": 3
   },
   "file_extension": ".py",
   "mimetype": "text/x-python",
   "name": "python",
   "nbconvert_exporter": "python",
   "pygments_lexer": "ipython3",
   "version": "3.7.3"
  }
 },
 "nbformat": 4,
 "nbformat_minor": 2
}
