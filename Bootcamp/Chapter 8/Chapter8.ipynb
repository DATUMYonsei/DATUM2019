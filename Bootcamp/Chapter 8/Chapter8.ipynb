{
 "cells": [
  {
   "cell_type": "code",
   "execution_count": 1,
   "metadata": {},
   "outputs": [
    {
     "name": "stdout",
     "output_type": "stream",
     "text": [
      "Happy new year Joseph\n",
      "Happy new year Glenn\n",
      "Happy new year Sally\n",
      "done!\n"
     ]
    }
   ],
   "source": [
    "friends = [\"Joseph\" , \"Glenn\", \"Sally\"]\n",
    "for friend in friends:\n",
    "    print('Happy new year' , friend)\n",
    "print('done!')"
   ]
  },
  {
   "cell_type": "code",
   "execution_count": 2,
   "metadata": {},
   "outputs": [
    {
     "name": "stdout",
     "output_type": "stream",
     "text": [
      "Happy new year Joseph\n",
      "Happy new year Glenn\n",
      "Happy new year Sally\n",
      "Happy new year Kevin\n",
      "Happy new year Sean\n",
      "Happy new year Jane\n",
      "done!\n"
     ]
    }
   ],
   "source": [
    "\n",
    "friends = [\"Joseph\" , \"Glenn\", \"Sally\", \"Kevin\", \"Sean\", \"Jane\"]\n",
    "\n",
    "for friend in friends:\n",
    "    \n",
    "    print('Happy new year' , friend)\n",
    "    \n",
    "print('done!')"
   ]
  },
  {
   "cell_type": "code",
   "execution_count": 3,
   "metadata": {},
   "outputs": [
    {
     "ename": "TypeError",
     "evalue": "'str' object does not support item assignment",
     "output_type": "error",
     "traceback": [
      "\u001b[1;31m---------------------------------------------------------------------------\u001b[0m",
      "\u001b[1;31mTypeError\u001b[0m                                 Traceback (most recent call last)",
      "\u001b[1;32m<ipython-input-3-2bc78b004470>\u001b[0m in \u001b[0;36m<module>\u001b[1;34m\u001b[0m\n\u001b[0;32m      1\u001b[0m \u001b[0mfruit\u001b[0m \u001b[1;33m=\u001b[0m \u001b[1;34m'Banana'\u001b[0m\u001b[1;33m\u001b[0m\u001b[1;33m\u001b[0m\u001b[0m\n\u001b[1;32m----> 2\u001b[1;33m \u001b[0mfruit\u001b[0m\u001b[1;33m[\u001b[0m\u001b[1;36m0\u001b[0m\u001b[1;33m]\u001b[0m \u001b[1;33m=\u001b[0m \u001b[1;34m'b'\u001b[0m\u001b[1;33m\u001b[0m\u001b[1;33m\u001b[0m\u001b[0m\n\u001b[0m",
      "\u001b[1;31mTypeError\u001b[0m: 'str' object does not support item assignment"
     ]
    }
   ],
   "source": [
    "fruit = 'Banana'\n",
    "fruit[0] = 'b'"
   ]
  },
  {
   "cell_type": "code",
   "execution_count": 4,
   "metadata": {},
   "outputs": [
    {
     "name": "stdout",
     "output_type": "stream",
     "text": [
      "[2, 14, 28, 41, 64]\n"
     ]
    }
   ],
   "source": [
    "lotto = [2, 14, 26, 41, 64]\n",
    "lotto[2] = 28\n",
    "print(lotto)"
   ]
  },
  {
   "cell_type": "code",
   "execution_count": 6,
   "metadata": {},
   "outputs": [
    {
     "name": "stdout",
     "output_type": "stream",
     "text": [
      "Happy new year Joseph\n",
      "Happy new year Glenn\n",
      "Happy new year Sally\n",
      "Happy new year Kevin\n",
      "Happy new year Sean\n",
      "Happy new year Jane\n"
     ]
    }
   ],
   "source": [
    "\n",
    "friends = [\"Joseph\" , \"Glenn\", \"Sally\", \"Kevin\", \"Sean\", \"Jane\"]\n",
    "\n",
    "for i in range(len(friends)):\n",
    "    \n",
    "    friend = friends[i]\n",
    "    \n",
    "    print('Happy new year', friend)\n"
   ]
  },
  {
   "cell_type": "code",
   "execution_count": 2,
   "metadata": {},
   "outputs": [
    {
     "name": "stdout",
     "output_type": "stream",
     "text": [
      "[1, 2, 3, 4, 5, 6]\n"
     ]
    }
   ],
   "source": [
    "a = [1,2,3]\n",
    "b = [4,5,6]\n",
    "c = a+b\n",
    "print(c)"
   ]
  },
  {
   "cell_type": "code",
   "execution_count": null,
   "metadata": {},
   "outputs": [],
   "source": [
    ">>> t = [9, 141, 12, 3 ,74, 15]\n",
    ">>> t[1:3]\n",
    "[141, 12]\n",
    ">>> t[:4]\n",
    "[9, 141, 12, 3]\n",
    ">>> t[3:]\n",
    "[3, 74, 15]\n",
    ">>> t[:]\n",
    "[9, 141, 12, 3, 74, 15]\n",
    ">>> t[:-2]\n",
    "[9, 141, 12, 3]\n",
    ">>>\n"
   ]
  },
  {
   "cell_type": "code",
   "execution_count": 4,
   "metadata": {},
   "outputs": [
    {
     "name": "stdout",
     "output_type": "stream",
     "text": [
      "['book', 91, 'snacks']\n"
     ]
    }
   ],
   "source": [
    "stuff = list()\n",
    "stuff.append(\"book\")\n",
    "stuff.append(91)\n",
    "stuff.append(\"snacks\")\n",
    "print(stuff)"
   ]
  },
  {
   "cell_type": "code",
   "execution_count": null,
   "metadata": {},
   "outputs": [],
   "source": [
    "total = 0\n",
    "count = 0\n",
    "while True:\n",
    "    inp = input(\"Enter:\")\n",
    "    if inp == 'done' :\n",
    "        break\n",
    "    val = float(inp)\n",
    "    total+=val\n",
    "    count+=1\n",
    "av = total/count\n",
    "print(av)\n"
   ]
  },
  {
   "cell_type": "code",
   "execution_count": 2,
   "metadata": {
    "scrolled": true
   },
   "outputs": [
    {
     "name": "stdout",
     "output_type": "stream",
     "text": [
      "['These', 'three', 'words']\n",
      "3\n",
      "These\n"
     ]
    }
   ],
   "source": [
    ">>> abc = ('These three words')\n",
    ">>> stuff = abc.split()\n",
    ">>> print(stuff)\n",
    "['These', 'three', 'words']\n",
    ">>> print(len(stuff))\n",
    ">>> print(stuff[0])"
   ]
  },
  {
   "cell_type": "code",
   "execution_count": 5,
   "metadata": {},
   "outputs": [
    {
     "name": "stdout",
     "output_type": "stream",
     "text": [
      "['A', 'lot', 'of', 'spaces']\n"
     ]
    }
   ],
   "source": [
    "line = 'A lot         of spaces'\n",
    "etc = line.split()\n",
    "print(etc)"
   ]
  },
  {
   "cell_type": "code",
   "execution_count": 6,
   "metadata": {},
   "outputs": [
    {
     "name": "stdout",
     "output_type": "stream",
     "text": [
      "['first;second;third']\n"
     ]
    }
   ],
   "source": [
    "line = 'first;second;third'\n",
    "thing = line.split()\n",
    "print(thing)"
   ]
  },
  {
   "cell_type": "code",
   "execution_count": 7,
   "metadata": {},
   "outputs": [
    {
     "name": "stdout",
     "output_type": "stream",
     "text": [
      "['first', 'second', 'third']\n"
     ]
    }
   ],
   "source": [
    "thinng = line.split(';')\n",
    "print(thinng)"
   ]
  }
 ],
 "metadata": {
  "kernelspec": {
   "display_name": "Python 3",
   "language": "python",
   "name": "python3"
  },
  "language_info": {
   "codemirror_mode": {
    "name": "ipython",
    "version": 3
   },
   "file_extension": ".py",
   "mimetype": "text/x-python",
   "name": "python",
   "nbconvert_exporter": "python",
   "pygments_lexer": "ipython3",
   "version": "3.7.3"
  }
 },
 "nbformat": 4,
 "nbformat_minor": 2
}
